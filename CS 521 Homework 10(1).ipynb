{
 "cells": [
  {
   "cell_type": "markdown",
   "id": "a8f3cf02",
   "metadata": {},
   "source": [
    "## CS 521 Homework 10\n",
    "\n",
    "All these problems can be done with just the Pandas methods/functions we've gone over in Module 6. However, I encourage you to seek out additional methods from the Pandas official website (https://pandas.pydata.org/docs/index.html) as there are many helpful shortcuts that can simplify most of your solutions to just one or two lines. \n",
    "\n",
    "It is my hope you'll take this assignment as an opportunity to seek out additional methods and documentation to improve your resource and searching skills.\n",
    "\n",
    "**For this assignment, you are to code your solutions in such a way that if a different dataset were used (whether a different stock, different range in dates (e.g. 2017 - 2021), etc.) as input that your solutions will produce correct results.**"
   ]
  },
  {
   "cell_type": "markdown",
   "id": "b1233066",
   "metadata": {},
   "source": [
    "### Import the Dataset\n",
    "The below code will import a excel file for daily stock data from 2016 - 2020 for Microsoft. In the dataset you have daily information for Opening stock value, Closing stock value, Volume of stock bought/sold, etc. There is no missing data in the dataframe, so no need to do any sort of cleaning. "
   ]
  },
  {
   "cell_type": "code",
   "execution_count": 1,
   "id": "541e771e",
   "metadata": {
    "scrolled": true
   },
   "outputs": [
    {
     "data": {
      "text/html": [
       "<div>\n",
       "<style scoped>\n",
       "    .dataframe tbody tr th:only-of-type {\n",
       "        vertical-align: middle;\n",
       "    }\n",
       "\n",
       "    .dataframe tbody tr th {\n",
       "        vertical-align: top;\n",
       "    }\n",
       "\n",
       "    .dataframe thead th {\n",
       "        text-align: right;\n",
       "    }\n",
       "</style>\n",
       "<table border=\"1\" class=\"dataframe\">\n",
       "  <thead>\n",
       "    <tr style=\"text-align: right;\">\n",
       "      <th></th>\n",
       "      <th>Date</th>\n",
       "      <th>Year</th>\n",
       "      <th>Month</th>\n",
       "      <th>Day</th>\n",
       "      <th>Weekday</th>\n",
       "      <th>Week_Number</th>\n",
       "      <th>Year_Week</th>\n",
       "      <th>Open</th>\n",
       "      <th>High</th>\n",
       "      <th>Low</th>\n",
       "      <th>Close</th>\n",
       "      <th>Volume</th>\n",
       "      <th>Adj Close</th>\n",
       "      <th>Short_MA</th>\n",
       "      <th>Long_MA</th>\n",
       "    </tr>\n",
       "  </thead>\n",
       "  <tbody>\n",
       "    <tr>\n",
       "      <th>0</th>\n",
       "      <td>2016-01-04</td>\n",
       "      <td>2016</td>\n",
       "      <td>1</td>\n",
       "      <td>4</td>\n",
       "      <td>Monday</td>\n",
       "      <td>1</td>\n",
       "      <td>2016-01</td>\n",
       "      <td>54.32</td>\n",
       "      <td>54.80</td>\n",
       "      <td>53.39</td>\n",
       "      <td>54.80</td>\n",
       "      <td>53778000</td>\n",
       "      <td>49.49</td>\n",
       "      <td>49.490000</td>\n",
       "      <td>49.490000</td>\n",
       "    </tr>\n",
       "    <tr>\n",
       "      <th>1</th>\n",
       "      <td>2016-01-05</td>\n",
       "      <td>2016</td>\n",
       "      <td>1</td>\n",
       "      <td>5</td>\n",
       "      <td>Tuesday</td>\n",
       "      <td>1</td>\n",
       "      <td>2016-01</td>\n",
       "      <td>54.93</td>\n",
       "      <td>55.39</td>\n",
       "      <td>54.54</td>\n",
       "      <td>55.05</td>\n",
       "      <td>34079700</td>\n",
       "      <td>49.71</td>\n",
       "      <td>49.600000</td>\n",
       "      <td>49.600000</td>\n",
       "    </tr>\n",
       "    <tr>\n",
       "      <th>2</th>\n",
       "      <td>2016-01-06</td>\n",
       "      <td>2016</td>\n",
       "      <td>1</td>\n",
       "      <td>6</td>\n",
       "      <td>Wednesday</td>\n",
       "      <td>1</td>\n",
       "      <td>2016-01</td>\n",
       "      <td>54.32</td>\n",
       "      <td>54.40</td>\n",
       "      <td>53.64</td>\n",
       "      <td>54.05</td>\n",
       "      <td>39518900</td>\n",
       "      <td>48.81</td>\n",
       "      <td>49.336667</td>\n",
       "      <td>49.336667</td>\n",
       "    </tr>\n",
       "    <tr>\n",
       "      <th>3</th>\n",
       "      <td>2016-01-07</td>\n",
       "      <td>2016</td>\n",
       "      <td>1</td>\n",
       "      <td>7</td>\n",
       "      <td>Thursday</td>\n",
       "      <td>1</td>\n",
       "      <td>2016-01</td>\n",
       "      <td>52.70</td>\n",
       "      <td>53.49</td>\n",
       "      <td>52.07</td>\n",
       "      <td>52.17</td>\n",
       "      <td>56564900</td>\n",
       "      <td>47.11</td>\n",
       "      <td>48.780000</td>\n",
       "      <td>48.780000</td>\n",
       "    </tr>\n",
       "    <tr>\n",
       "      <th>4</th>\n",
       "      <td>2016-01-08</td>\n",
       "      <td>2016</td>\n",
       "      <td>1</td>\n",
       "      <td>8</td>\n",
       "      <td>Friday</td>\n",
       "      <td>1</td>\n",
       "      <td>2016-01</td>\n",
       "      <td>52.37</td>\n",
       "      <td>53.28</td>\n",
       "      <td>52.15</td>\n",
       "      <td>52.33</td>\n",
       "      <td>48754000</td>\n",
       "      <td>47.26</td>\n",
       "      <td>48.476000</td>\n",
       "      <td>48.476000</td>\n",
       "    </tr>\n",
       "    <tr>\n",
       "      <th>...</th>\n",
       "      <td>...</td>\n",
       "      <td>...</td>\n",
       "      <td>...</td>\n",
       "      <td>...</td>\n",
       "      <td>...</td>\n",
       "      <td>...</td>\n",
       "      <td>...</td>\n",
       "      <td>...</td>\n",
       "      <td>...</td>\n",
       "      <td>...</td>\n",
       "      <td>...</td>\n",
       "      <td>...</td>\n",
       "      <td>...</td>\n",
       "      <td>...</td>\n",
       "      <td>...</td>\n",
       "    </tr>\n",
       "    <tr>\n",
       "      <th>1253</th>\n",
       "      <td>2020-12-23</td>\n",
       "      <td>2020</td>\n",
       "      <td>12</td>\n",
       "      <td>23</td>\n",
       "      <td>Wednesday</td>\n",
       "      <td>51</td>\n",
       "      <td>2020-51</td>\n",
       "      <td>223.11</td>\n",
       "      <td>223.56</td>\n",
       "      <td>220.80</td>\n",
       "      <td>221.02</td>\n",
       "      <td>18699600</td>\n",
       "      <td>218.73</td>\n",
       "      <td>214.427857</td>\n",
       "      <td>212.103800</td>\n",
       "    </tr>\n",
       "    <tr>\n",
       "      <th>1254</th>\n",
       "      <td>2020-12-24</td>\n",
       "      <td>2020</td>\n",
       "      <td>12</td>\n",
       "      <td>24</td>\n",
       "      <td>Thursday</td>\n",
       "      <td>51</td>\n",
       "      <td>2020-51</td>\n",
       "      <td>221.42</td>\n",
       "      <td>223.61</td>\n",
       "      <td>221.20</td>\n",
       "      <td>222.75</td>\n",
       "      <td>10550600</td>\n",
       "      <td>220.44</td>\n",
       "      <td>215.020714</td>\n",
       "      <td>212.152600</td>\n",
       "    </tr>\n",
       "    <tr>\n",
       "      <th>1255</th>\n",
       "      <td>2020-12-28</td>\n",
       "      <td>2020</td>\n",
       "      <td>12</td>\n",
       "      <td>28</td>\n",
       "      <td>Monday</td>\n",
       "      <td>52</td>\n",
       "      <td>2020-52</td>\n",
       "      <td>224.45</td>\n",
       "      <td>226.03</td>\n",
       "      <td>223.02</td>\n",
       "      <td>224.96</td>\n",
       "      <td>17933500</td>\n",
       "      <td>222.63</td>\n",
       "      <td>215.775000</td>\n",
       "      <td>212.268800</td>\n",
       "    </tr>\n",
       "    <tr>\n",
       "      <th>1256</th>\n",
       "      <td>2020-12-29</td>\n",
       "      <td>2020</td>\n",
       "      <td>12</td>\n",
       "      <td>29</td>\n",
       "      <td>Tuesday</td>\n",
       "      <td>52</td>\n",
       "      <td>2020-52</td>\n",
       "      <td>226.31</td>\n",
       "      <td>227.18</td>\n",
       "      <td>223.58</td>\n",
       "      <td>224.15</td>\n",
       "      <td>17403200</td>\n",
       "      <td>221.83</td>\n",
       "      <td>216.350714</td>\n",
       "      <td>212.369000</td>\n",
       "    </tr>\n",
       "    <tr>\n",
       "      <th>1257</th>\n",
       "      <td>2020-12-30</td>\n",
       "      <td>2020</td>\n",
       "      <td>12</td>\n",
       "      <td>30</td>\n",
       "      <td>Wednesday</td>\n",
       "      <td>52</td>\n",
       "      <td>2020-52</td>\n",
       "      <td>225.23</td>\n",
       "      <td>225.63</td>\n",
       "      <td>221.47</td>\n",
       "      <td>221.68</td>\n",
       "      <td>20272300</td>\n",
       "      <td>219.38</td>\n",
       "      <td>217.048571</td>\n",
       "      <td>212.527600</td>\n",
       "    </tr>\n",
       "  </tbody>\n",
       "</table>\n",
       "<p>1258 rows × 15 columns</p>\n",
       "</div>"
      ],
      "text/plain": [
       "           Date  Year  Month  Day    Weekday  Week_Number Year_Week    Open  \\\n",
       "0    2016-01-04  2016      1    4     Monday            1   2016-01   54.32   \n",
       "1    2016-01-05  2016      1    5    Tuesday            1   2016-01   54.93   \n",
       "2    2016-01-06  2016      1    6  Wednesday            1   2016-01   54.32   \n",
       "3    2016-01-07  2016      1    7   Thursday            1   2016-01   52.70   \n",
       "4    2016-01-08  2016      1    8     Friday            1   2016-01   52.37   \n",
       "...         ...   ...    ...  ...        ...          ...       ...     ...   \n",
       "1253 2020-12-23  2020     12   23  Wednesday           51   2020-51  223.11   \n",
       "1254 2020-12-24  2020     12   24   Thursday           51   2020-51  221.42   \n",
       "1255 2020-12-28  2020     12   28     Monday           52   2020-52  224.45   \n",
       "1256 2020-12-29  2020     12   29    Tuesday           52   2020-52  226.31   \n",
       "1257 2020-12-30  2020     12   30  Wednesday           52   2020-52  225.23   \n",
       "\n",
       "        High     Low   Close    Volume  Adj Close    Short_MA     Long_MA  \n",
       "0      54.80   53.39   54.80  53778000      49.49   49.490000   49.490000  \n",
       "1      55.39   54.54   55.05  34079700      49.71   49.600000   49.600000  \n",
       "2      54.40   53.64   54.05  39518900      48.81   49.336667   49.336667  \n",
       "3      53.49   52.07   52.17  56564900      47.11   48.780000   48.780000  \n",
       "4      53.28   52.15   52.33  48754000      47.26   48.476000   48.476000  \n",
       "...      ...     ...     ...       ...        ...         ...         ...  \n",
       "1253  223.56  220.80  221.02  18699600     218.73  214.427857  212.103800  \n",
       "1254  223.61  221.20  222.75  10550600     220.44  215.020714  212.152600  \n",
       "1255  226.03  223.02  224.96  17933500     222.63  215.775000  212.268800  \n",
       "1256  227.18  223.58  224.15  17403200     221.83  216.350714  212.369000  \n",
       "1257  225.63  221.47  221.68  20272300     219.38  217.048571  212.527600  \n",
       "\n",
       "[1258 rows x 15 columns]"
      ]
     },
     "execution_count": 1,
     "metadata": {},
     "output_type": "execute_result"
    }
   ],
   "source": [
    "import pandas as pd\n",
    "df = pd.read_excel('MSFT.xlsx')\n",
    "df"
   ]
  },
  {
   "cell_type": "markdown",
   "id": "f680d14c",
   "metadata": {},
   "source": [
    "### Problem 1\n",
    "Missing from this data table is a _Return_ variable that compares the gain or loss of a current day to the previous days. The calculation to get _Return_ is to take the current day's _Adj Close_ value, subtract from it the previous day's _Adj Close_ value, and divide the difference by the previous day's _Adj Close_.\n",
    "\n",
    "So if we're on Day 5: \n",
    "\n",
    "<center>Return<sub>Day 5</sub> = (Adj Close<sub>Day 5</sub> - Adj Close<sub>Day 4</sub>) / Adj Close<sub>Day 4</sub></center>\n",
    "\n",
    "Create a column/variable named _Return_ following the above calculation. Assume the first day, at index 0, has a Return value of 0.0"
   ]
  },
  {
   "cell_type": "code",
   "execution_count": null,
   "id": "12199484",
   "metadata": {},
   "outputs": [],
   "source": [
    "# Fill in your answer for Problem 1 here"
   ]
  },
  {
   "cell_type": "markdown",
   "id": "6aca7d7b",
   "metadata": {},
   "source": [
    "### Problem 2 \n",
    "Provide the _Date_ which had the highest/max _Return_ value."
   ]
  },
  {
   "cell_type": "code",
   "execution_count": null,
   "id": "f683bb51",
   "metadata": {},
   "outputs": [],
   "source": [
    "# Fill in your answer for Problem 2 here"
   ]
  },
  {
   "cell_type": "markdown",
   "id": "36a98b38",
   "metadata": {},
   "source": [
    "### Problem 3\n",
    "Provide the _Date_ which had the lowest/min _Return_ value."
   ]
  },
  {
   "cell_type": "code",
   "execution_count": null,
   "id": "c0d005fc",
   "metadata": {},
   "outputs": [],
   "source": [
    "# Fill in your answer for Problem 3 here"
   ]
  },
  {
   "cell_type": "markdown",
   "id": "b1b243b8",
   "metadata": {},
   "source": [
    "### Problem 4\n",
    "Create a new column titled _Class_ which labels a row 'green' if the _Return_ value is greater than or equal to 0 or 'red' if otherwise."
   ]
  },
  {
   "cell_type": "code",
   "execution_count": null,
   "id": "8e9b29d8",
   "metadata": {},
   "outputs": [],
   "source": [
    "# Fill in your answer for Problem 4 here"
   ]
  },
  {
   "cell_type": "markdown",
   "id": "6b01c0b5",
   "metadata": {},
   "source": [
    "### Problem 5\n",
    "Show the descriptive statistics (count, mean , std, etc.) for _Weekdays_ that have a 'green' _Class_ value."
   ]
  },
  {
   "cell_type": "code",
   "execution_count": null,
   "id": "aad28a08",
   "metadata": {},
   "outputs": [],
   "source": [
    "# Fill in your answer for Problem 5 here"
   ]
  },
  {
   "cell_type": "markdown",
   "id": "3ae414c4",
   "metadata": {},
   "source": [
    "### Problem 6\n",
    "Give the _Dates_ which correspond to the top 5 all time highest _Volume_ values."
   ]
  },
  {
   "cell_type": "code",
   "execution_count": null,
   "id": "8bfffb09",
   "metadata": {},
   "outputs": [],
   "source": [
    "# Fill in your answer for Problem 6 here"
   ]
  },
  {
   "cell_type": "markdown",
   "id": "7a6ae594",
   "metadata": {},
   "source": [
    "### Problem 7\n",
    "Using the drataframe created in Problem 4, create a new dataframe that has two columns titled _Year_ and _Count_. Each row in the dataframe should represent the number of 'green' days that occured for each unique year present in the dataframe in Problem 4.\n",
    "\n",
    "For example (note, below numbers are made up for demonstration):<br>\n",
    "\n",
    "Years$\\;\\;\\;\\;\\;\\;$Count<br>\n",
    "2016$\\;\\;\\;\\;\\;\\;\\;\\;$100<br>\n",
    "2017$\\;\\;\\;\\;\\;\\;\\;\\;$102<br>\n",
    "2018$\\;\\;\\;\\;\\;\\;\\;\\;$122<br>\n",
    "2019$\\;\\;\\;\\;\\;\\;\\;\\;$111<br>\n",
    "2020$\\;\\;\\;\\;\\;\\;\\;\\;$102<br>"
   ]
  },
  {
   "cell_type": "code",
   "execution_count": null,
   "id": "d7fc5e7c",
   "metadata": {},
   "outputs": [],
   "source": [
    "# Fill in your answer for Problem 7 here"
   ]
  },
  {
   "cell_type": "markdown",
   "id": "ff1161cf",
   "metadata": {},
   "source": [
    "### Problem 8\n",
    "Using the drataframe created in Problem 4, create a new dataframe that has two columns titled _Weekday_ and _Avg Return_. Each row in the dataframe should represent the average overall return that occured for each unique Weekday in the dataframe in Problem 4.\n",
    "\n",
    "For example (note, below numbers are made up):<br>\n",
    "\n",
    "Weekday$\\;\\;\\;\\;\\;\\;$Avg Return<br>\n",
    "Monday$\\;\\;\\;\\;\\;\\;\\;\\;\\;$0.011<br>\n",
    "Tueday$\\;\\;\\;\\;\\;\\;\\;\\;\\;\\;$0.022<br>\n",
    "Wednesday$\\;\\;\\;\\;$-0.222<br>\n",
    "Thursday$\\;\\;\\;\\;\\;\\;\\;$1.111<br>\n",
    "Friday$\\;\\;\\;\\;\\;\\;\\;\\;\\;\\;\\;$-0.22<br>\n",
    "\n",
    "Note: You do not have to have the Weekdays in the same order as the above table or round the decimal values. "
   ]
  },
  {
   "cell_type": "code",
   "execution_count": null,
   "id": "1643f4f1",
   "metadata": {},
   "outputs": [],
   "source": [
    "# Fill in your answer for Problem 8 here"
   ]
  },
  {
   "cell_type": "markdown",
   "id": "39823744",
   "metadata": {},
   "source": [
    "### Problem 9\n",
    "Let us predict the _Class_ label for the following day at the end of our dataframe from Problem 4. Count the number of 'green' and 'red' labels in the last _n_ days of this dataframe. Determine based on a simple majority whether the next trading day after 2020-12-30 will be a 'green' day or a 'red' day. Write your code in such a way that it will determine this majority and predicted Class label based on what value _n_ is used. \n",
    "\n",
    "If there is a tie (i.e. equal number of 'green' days vs 'red' days) then use a randomly selected label as your prediction.\n",
    "\n",
    "Example: if n = 5\n",
    "\n",
    "green<br>\n",
    "red<br>\n",
    "red<br>\n",
    "green<br>\n",
    "green<br>\n",
    "\n",
    "Would result in 'green' for following trading day after 2020-12-30 given there are 3 'green' days and only 2 'red' days."
   ]
  },
  {
   "cell_type": "code",
   "execution_count": null,
   "id": "3c918e3f",
   "metadata": {},
   "outputs": [],
   "source": [
    "# Fill in your answer for Problem 9 here"
   ]
  }
 ],
 "metadata": {
  "kernelspec": {
   "display_name": "Python 3 (ipykernel)",
   "language": "python",
   "name": "python3"
  },
  "language_info": {
   "codemirror_mode": {
    "name": "ipython",
    "version": 3
   },
   "file_extension": ".py",
   "mimetype": "text/x-python",
   "name": "python",
   "nbconvert_exporter": "python",
   "pygments_lexer": "ipython3",
   "version": "3.9.12"
  }
 },
 "nbformat": 4,
 "nbformat_minor": 5
}
